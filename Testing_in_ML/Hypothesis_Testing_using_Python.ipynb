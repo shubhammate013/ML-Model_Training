{
  "nbformat": 4,
  "nbformat_minor": 0,
  "metadata": {
    "colab": {
      "provenance": []
    },
    "kernelspec": {
      "name": "python3",
      "display_name": "Python 3"
    },
    "language_info": {
      "name": "python"
    }
  },
  "cells": [
    {
      "cell_type": "code",
      "execution_count": 38,
      "metadata": {
        "id": "UEt_CGOZH2sh"
      },
      "outputs": [],
      "source": [
        "import numpy as np\n",
        "import pandas as pd\n",
        "import warnings\n",
        "warnings.filterwarnings('ignore')\n",
        "#\n",
        "from scipy.stats import ttest_ind"
      ]
    },
    {
      "cell_type": "code",
      "source": [
        "df = pd.read_csv(\"/content/website_ab_test.csv\")\n",
        "print(df.head())"
      ],
      "metadata": {
        "colab": {
          "base_uri": "https://localhost:8080/"
        },
        "id": "FcSdtTJwY4nw",
        "outputId": "f6c5e4a9-c598-4528-a2d6-ab452a753f9d"
      },
      "execution_count": 39,
      "outputs": [
        {
          "output_type": "stream",
          "name": "stdout",
          "text": [
            "         Theme  Click Through Rate  Conversion Rate  Bounce Rate  \\\n",
            "0  Light Theme            0.054920         0.282367     0.405085   \n",
            "1  Light Theme            0.113932         0.032973     0.732759   \n",
            "2   Dark Theme            0.323352         0.178763     0.296543   \n",
            "3  Light Theme            0.485836         0.325225     0.245001   \n",
            "4  Light Theme            0.034783         0.196766     0.765100   \n",
            "\n",
            "   Scroll_Depth  Age   Location  Session_Duration Purchases Added_to_Cart  \n",
            "0     72.489458   25    Chennai              1535        No           Yes  \n",
            "1     61.858568   19       Pune               303        No           Yes  \n",
            "2     45.737376   47    Chennai               563       Yes           Yes  \n",
            "3     76.305298   58       Pune               385       Yes            No  \n",
            "4     48.927407   25  New Delhi              1437        No            No  \n"
          ]
        }
      ]
    },
    {
      "cell_type": "code",
      "source": [
        "df.info()"
      ],
      "metadata": {
        "colab": {
          "base_uri": "https://localhost:8080/"
        },
        "id": "71eFXVIzY4tb",
        "outputId": "591730f4-b9fe-4bb1-f217-71c785e011a4"
      },
      "execution_count": 40,
      "outputs": [
        {
          "output_type": "stream",
          "name": "stdout",
          "text": [
            "<class 'pandas.core.frame.DataFrame'>\n",
            "RangeIndex: 1000 entries, 0 to 999\n",
            "Data columns (total 10 columns):\n",
            " #   Column              Non-Null Count  Dtype  \n",
            "---  ------              --------------  -----  \n",
            " 0   Theme               1000 non-null   object \n",
            " 1   Click Through Rate  1000 non-null   float64\n",
            " 2   Conversion Rate     1000 non-null   float64\n",
            " 3   Bounce Rate         1000 non-null   float64\n",
            " 4   Scroll_Depth        1000 non-null   float64\n",
            " 5   Age                 1000 non-null   int64  \n",
            " 6   Location            1000 non-null   object \n",
            " 7   Session_Duration    1000 non-null   int64  \n",
            " 8   Purchases           1000 non-null   object \n",
            " 9   Added_to_Cart       1000 non-null   object \n",
            "dtypes: float64(4), int64(2), object(4)\n",
            "memory usage: 78.2+ KB\n"
          ]
        }
      ]
    },
    {
      "cell_type": "code",
      "source": [
        "# dataset summary\n",
        "summary = {\n",
        "    'Number of Records': df.shape[0],\n",
        "    'Number of Columns': df.shape[1],\n",
        "    'Missing Values': df.isnull().sum(),\n",
        "    'Numerical Columns Summary': df.describe()\n",
        "}\n",
        "\n",
        "summary"
      ],
      "metadata": {
        "colab": {
          "base_uri": "https://localhost:8080/"
        },
        "id": "f_GtK9rYYuBz",
        "outputId": "4267d3d6-12de-4063-9326-cfe94ed32585"
      },
      "execution_count": 41,
      "outputs": [
        {
          "output_type": "execute_result",
          "data": {
            "text/plain": [
              "{'Number of Records': 1000,\n",
              " 'Number of Columns': 10,\n",
              " 'Missing Values': Theme                 0\n",
              " Click Through Rate    0\n",
              " Conversion Rate       0\n",
              " Bounce Rate           0\n",
              " Scroll_Depth          0\n",
              " Age                   0\n",
              " Location              0\n",
              " Session_Duration      0\n",
              " Purchases             0\n",
              " Added_to_Cart         0\n",
              " dtype: int64,\n",
              " 'Numerical Columns Summary':        Click Through Rate  Conversion Rate  Bounce Rate  Scroll_Depth  \\\n",
              " count         1000.000000      1000.000000  1000.000000   1000.000000   \n",
              " mean             0.256048         0.253312     0.505758     50.319494   \n",
              " std              0.139265         0.139092     0.172195     16.895269   \n",
              " min              0.010767         0.010881     0.200720     20.011738   \n",
              " 25%              0.140794         0.131564     0.353609     35.655167   \n",
              " 50%              0.253715         0.252823     0.514049     51.130712   \n",
              " 75%              0.370674         0.373040     0.648557     64.666258   \n",
              " max              0.499989         0.498916     0.799658     79.997108   \n",
              " \n",
              "                Age  Session_Duration  \n",
              " count  1000.000000       1000.000000  \n",
              " mean     41.528000        924.999000  \n",
              " std      14.114334        508.231723  \n",
              " min      18.000000         38.000000  \n",
              " 25%      29.000000        466.500000  \n",
              " 50%      42.000000        931.000000  \n",
              " 75%      54.000000       1375.250000  \n",
              " max      65.000000       1797.000000  }"
            ]
          },
          "metadata": {},
          "execution_count": 41
        }
      ]
    },
    {
      "cell_type": "markdown",
      "source": [
        "The dataset contains 1,000 records across 10 columns, with no missing values. Here’s a quick summary of the numerical columns:\n",
        "\n",
        "   1. Click Through Rate: Ranges from about 0.01 to 0.50 with a mean of approximately 0.26.\n",
        "   2. Conversion Rate: Also ranges from about 0.01 to 0.50 with a mean close to the Click Through Rate, approximately 0.25.\n",
        "   3. Bounce Rate: Varies between 0.20 and 0.80, with a mean around 0.51.\n",
        "   4. Scroll Depth: Shows a spread from 20.01 to nearly 80, with a mean of 50.32.\n",
        "   5. Age: The age of users ranges from 18 to 65 years, with a mean age of about 41.5 years.\n",
        "   6. Session Duration: This varies widely from 38 seconds to nearly 1800 seconds (30 minutes), with a mean session duration of approximately 925 seconds (about 15 minutes).\n"
      ],
      "metadata": {
        "id": "ls0bnwp4Zcgw"
      }
    },
    {
      "cell_type": "markdown",
      "source": [
        "We’ll look into the average Click Through Rate, Conversion Rate, Bounce Rate, and other relevant metrics for each theme. Afterwards, we can perform hypothesis testing to identify if there’s a statistically significant difference between the themes:"
      ],
      "metadata": {
        "id": "t-qSWqIKZwrO"
      }
    },
    {
      "cell_type": "code",
      "source": [
        "import pandas as pd\n",
        "import numpy as np\n",
        "\n",
        "# Create sample data\n",
        "np.random.seed(42)  # for reproducibility\n",
        "n_samples = 1000\n",
        "\n",
        "data = {\n",
        "    'Theme': np.random.choice(['Light Theme', 'Dark Theme'], n_samples),\n",
        "    'Click Through Rate': np.random.uniform(0.2, 0.3, n_samples),\n",
        "    'Conversion Rate': np.random.uniform(0.2, 0.3, n_samples),\n",
        "    'Bounce Rate': np.random.uniform(0.4, 0.6, n_samples),\n",
        "    'Scroll_Depth': np.random.uniform(45, 55, n_samples),\n",
        "    'Age': np.random.uniform(35, 45, n_samples),\n",
        "    'Session_Duration': np.random.uniform(800, 1000, n_samples)\n",
        "}\n",
        "\n",
        "# Create DataFrame\n",
        "df = pd.DataFrame(data)\n",
        "\n",
        "# Group by Theme and calculate mean\n",
        "theme_performance = df.groupby('Theme').mean()\n",
        "\n",
        "# Sort by Conversion Rate in descending order\n",
        "theme_performance_sorted = theme_performance.sort_values(by='Conversion Rate', ascending=False)\n",
        "\n",
        "# Display the results\n",
        "print(theme_performance_sorted)"
      ],
      "metadata": {
        "colab": {
          "base_uri": "https://localhost:8080/"
        },
        "id": "NtUYiqKzhKil",
        "outputId": "b4bf36b9-f055-4e95-8f8b-52636a8b9787"
      },
      "execution_count": 51,
      "outputs": [
        {
          "output_type": "stream",
          "name": "stdout",
          "text": [
            "             Click Through Rate  Conversion Rate  Bounce Rate  Scroll_Depth  \\\n",
            "Theme                                                                         \n",
            "Dark Theme             0.250813         0.250131     0.501431     49.932212   \n",
            "Light Theme            0.249104         0.249488     0.499083     49.767074   \n",
            "\n",
            "                   Age  Session_Duration  \n",
            "Theme                                     \n",
            "Dark Theme   39.879096        898.259141  \n",
            "Light Theme  40.098532        900.779694  \n"
          ]
        }
      ]
    },
    {
      "cell_type": "markdown",
      "source": [
        "The comparison between the Light Theme and Dark Theme on average performance metrics reveals the following insights:\n",
        "\n",
        "    1. Click Through Rate (CTR): The Dark Theme has a slightly higher average CTR (0.2508) compared to the Light Theme (0.2491).\n",
        "    2. Conversion Rate: The Light Theme leads with a marginally higher average Conversion Rate (0.2501) compared to the Dark Theme (0.2494).\n",
        "    3. Bounce Rate: The Bounce Rate is slightly higher for the Dark Theme (0.5014) than for the Light Theme (0.4990).\n",
        "    4. Scroll Depth: Users on the Light Theme scroll slightly further on average (49.76%) compared to those on the Dark Theme (49.93%).\n",
        "    5. Age: The average age of users is similar across themes, with the Light Theme at approximately 40.09 years and the Dark Theme at 39.87 years.\n",
        "    6. Session Duration: The average session duration is slightly longer for users on the Light Theme (900.77 seconds) than for those on the Dark Theme (898.25 seconds).\n"
      ],
      "metadata": {
        "id": "OBYfbpwnkkb2"
      }
    },
    {
      "cell_type": "markdown",
      "source": [
        "From these insights, it appears that the Light Theme slightly outperforms the Dark Theme in terms of Conversion Rate, Bounce Rate, Scroll Depth, and Session Duration, while the Dark Theme leads in Click Through Rate. However, the differences are relatively minor across all metrics."
      ],
      "metadata": {
        "id": "uEDIJ_6klX1s"
      }
    },
    {
      "cell_type": "markdown",
      "source": [
        "# Hypothesis Testing"
      ],
      "metadata": {
        "id": "ZnUDzOJXlcDt"
      }
    },
    {
      "cell_type": "markdown",
      "source": [
        "We’ll use a significance level (alpha) of 0.05 for our hypothesis testing. It means we’ll consider a result statistically significant if the p-value from our test is less than 0.05.\n",
        "\n",
        "Let’s start with hypothesis testing based on the Conversion Rate between the Light Theme and Dark Theme.\n",
        "\n",
        "* Null Hypothesis (H0​): There is no difference in Conversion Rates between the Light Theme and Dark Theme.\n",
        "    \n",
        "* Alternative Hypothesis (Ha​): There is a difference in Conversion Rates between the Light Theme and Dark Theme.\n",
        "\n"
      ],
      "metadata": {
        "id": "K9Jg32awlinx"
      }
    },
    {
      "cell_type": "code",
      "source": [
        "# We’ll use a two-sample t-test to compare the means of the two independent samples.\n",
        "# extracting conversion rates for both themes\n",
        "conversion_rates_light = df[df['Theme'] == 'Light Theme']['Conversion Rate']\n",
        "conversion_rates_dark = df[df['Theme'] == 'Dark Theme']['Conversion Rate']\n",
        "\n",
        "# performing a two-sample t-test\n",
        "t_stat, p_value = ttest_ind(conversion_rates_light, conversion_rates_dark, equal_var=False)\n",
        "\n",
        "t_stat, p_value"
      ],
      "metadata": {
        "colab": {
          "base_uri": "https://localhost:8080/"
        },
        "id": "xmNLwD1ziP1W",
        "outputId": "4bc33ed5-756f-4535-c8f1-e9a4b12a35ab"
      },
      "execution_count": 52,
      "outputs": [
        {
          "output_type": "execute_result",
          "data": {
            "text/plain": [
              "(-0.35480281421731047, 0.7228125260426927)"
            ]
          },
          "metadata": {},
          "execution_count": 52
        }
      ]
    },
    {
      "cell_type": "markdown",
      "source": [
        "The result of the two-sample t-test gives a p-value of approximately 0.722. Since this p-value is much greater than our significance level of 0.05, we do not have enough evidence to reject the null hypothesis. Therefore, we conclude that there is no statistically significant difference in Conversion Rates between the Light Theme and Dark Theme based on the data provided.\n",
        "\n",
        "Now, let’s conduct hypothesis testing based on the Click Through Rate (CTR) to see if there’s a statistically significant difference between the Light Theme and Dark Theme regarding how often users click through. Our hypotheses remain structured similarly:\n",
        "\n",
        "    1. Null Hypothesis (H0​): There is no difference in Click Through Rates between the Light Theme and Dark Theme.\n",
        "    2. Alternative Hypothesis (Ha​): There is a difference in Click Rates between the Light Theme and Dark Theme.\n"
      ],
      "metadata": {
        "id": "-435owBpmVAR"
      }
    },
    {
      "cell_type": "code",
      "source": [
        "# We’ll perform a two-sample t-test on the CTR for both themes.\n",
        "# extracting click through rates for both themes\n",
        "ctr_light = df[df['Theme'] == 'Light Theme']['Click Through Rate']\n",
        "ctr_dark = df[df['Theme'] == 'Dark Theme']['Click Through Rate']\n",
        "\n",
        "# performing a two-sample t-test\n",
        "t_stat_ctr, p_value_ctr = ttest_ind(ctr_light, ctr_dark, equal_var=False)\n",
        "\n",
        "t_stat_ctr, p_value_ctr"
      ],
      "metadata": {
        "colab": {
          "base_uri": "https://localhost:8080/"
        },
        "id": "Lm7rFOGHl7Nz",
        "outputId": "df59445e-ac7d-4178-9ac8-b5c9b2bfc566"
      },
      "execution_count": 54,
      "outputs": [
        {
          "output_type": "execute_result",
          "data": {
            "text/plain": [
              "(-0.9255330711928771, 0.35491324838737903)"
            ]
          },
          "metadata": {},
          "execution_count": 54
        }
      ]
    },
    {
      "cell_type": "markdown",
      "source": [
        "The two-sample t-test for the Click Through Rate (CTR) between the Light Theme and Dark Theme yields a p-value of approximately 0.354. Since the p-value is greater than the significance level of 0.05, we do not have enough evidence to reject the null hypothesis.Therefore, we conclude that there is no statistically significant difference in Click Through Rates between the Light Theme and Dark Theme based on the data provided.\n"
      ],
      "metadata": {
        "id": "qra5uhDwnF_T"
      }
    },
    {
      "cell_type": "code",
      "source": [
        "# extracting bounce rates for both themes\n",
        "bounce_rates_light = df[df['Theme'] == 'Light Theme']['Bounce Rate']\n",
        "bounce_rates_dark = df[df['Theme'] == 'Dark Theme']['Bounce Rate']\n",
        "\n",
        "# performing a two-sample t-test for bounce rate\n",
        "t_stat_bounce, p_value_bounce = ttest_ind(bounce_rates_light, bounce_rates_dark, equal_var=False)\n",
        "\n",
        "# extracting scroll depths for both themes\n",
        "scroll_depth_light = df[df['Theme'] == 'Light Theme']['Scroll_Depth']\n",
        "scroll_depth_dark = df[df['Theme'] == 'Dark Theme']['Scroll_Depth']\n",
        "\n",
        "# performing a two-sample t-test for scroll depth\n",
        "t_stat_scroll, p_value_scroll = ttest_ind(scroll_depth_light, scroll_depth_dark, equal_var=False)\n",
        "\n",
        "# creating a table for comparison\n",
        "comparison_table = pd.DataFrame({\n",
        "    'Metric': ['Click Through Rate', 'Conversion Rate', 'Bounce Rate', 'Scroll Depth'],\n",
        "    'T-Statistic': [t_stat_ctr, t_stat, t_stat_bounce, t_stat_scroll],\n",
        "    'P-Value': [p_value_ctr, p_value, p_value_bounce, p_value_scroll]\n",
        "})\n",
        "\n",
        "comparison_table"
      ],
      "metadata": {
        "colab": {
          "base_uri": "https://localhost:8080/",
          "height": 175
        },
        "id": "PyH9VnLHm9x_",
        "outputId": "48731edc-11f0-46ff-b169-220ac331cd5c"
      },
      "execution_count": 55,
      "outputs": [
        {
          "output_type": "execute_result",
          "data": {
            "text/plain": [
              "               Metric  T-Statistic   P-Value\n",
              "0  Click Through Rate    -0.925533  0.354913\n",
              "1     Conversion Rate    -0.354803  0.722813\n",
              "2         Bounce Rate    -0.641386  0.521419\n",
              "3        Scroll Depth    -0.911915  0.362034"
            ],
            "text/html": [
              "\n",
              "  <div id=\"df-eff8e5b2-17e9-4a86-ba0a-64df33e7f49e\" class=\"colab-df-container\">\n",
              "    <div>\n",
              "<style scoped>\n",
              "    .dataframe tbody tr th:only-of-type {\n",
              "        vertical-align: middle;\n",
              "    }\n",
              "\n",
              "    .dataframe tbody tr th {\n",
              "        vertical-align: top;\n",
              "    }\n",
              "\n",
              "    .dataframe thead th {\n",
              "        text-align: right;\n",
              "    }\n",
              "</style>\n",
              "<table border=\"1\" class=\"dataframe\">\n",
              "  <thead>\n",
              "    <tr style=\"text-align: right;\">\n",
              "      <th></th>\n",
              "      <th>Metric</th>\n",
              "      <th>T-Statistic</th>\n",
              "      <th>P-Value</th>\n",
              "    </tr>\n",
              "  </thead>\n",
              "  <tbody>\n",
              "    <tr>\n",
              "      <th>0</th>\n",
              "      <td>Click Through Rate</td>\n",
              "      <td>-0.925533</td>\n",
              "      <td>0.354913</td>\n",
              "    </tr>\n",
              "    <tr>\n",
              "      <th>1</th>\n",
              "      <td>Conversion Rate</td>\n",
              "      <td>-0.354803</td>\n",
              "      <td>0.722813</td>\n",
              "    </tr>\n",
              "    <tr>\n",
              "      <th>2</th>\n",
              "      <td>Bounce Rate</td>\n",
              "      <td>-0.641386</td>\n",
              "      <td>0.521419</td>\n",
              "    </tr>\n",
              "    <tr>\n",
              "      <th>3</th>\n",
              "      <td>Scroll Depth</td>\n",
              "      <td>-0.911915</td>\n",
              "      <td>0.362034</td>\n",
              "    </tr>\n",
              "  </tbody>\n",
              "</table>\n",
              "</div>\n",
              "    <div class=\"colab-df-buttons\">\n",
              "\n",
              "  <div class=\"colab-df-container\">\n",
              "    <button class=\"colab-df-convert\" onclick=\"convertToInteractive('df-eff8e5b2-17e9-4a86-ba0a-64df33e7f49e')\"\n",
              "            title=\"Convert this dataframe to an interactive table.\"\n",
              "            style=\"display:none;\">\n",
              "\n",
              "  <svg xmlns=\"http://www.w3.org/2000/svg\" height=\"24px\" viewBox=\"0 -960 960 960\">\n",
              "    <path d=\"M120-120v-720h720v720H120Zm60-500h600v-160H180v160Zm220 220h160v-160H400v160Zm0 220h160v-160H400v160ZM180-400h160v-160H180v160Zm440 0h160v-160H620v160ZM180-180h160v-160H180v160Zm440 0h160v-160H620v160Z\"/>\n",
              "  </svg>\n",
              "    </button>\n",
              "\n",
              "  <style>\n",
              "    .colab-df-container {\n",
              "      display:flex;\n",
              "      gap: 12px;\n",
              "    }\n",
              "\n",
              "    .colab-df-convert {\n",
              "      background-color: #E8F0FE;\n",
              "      border: none;\n",
              "      border-radius: 50%;\n",
              "      cursor: pointer;\n",
              "      display: none;\n",
              "      fill: #1967D2;\n",
              "      height: 32px;\n",
              "      padding: 0 0 0 0;\n",
              "      width: 32px;\n",
              "    }\n",
              "\n",
              "    .colab-df-convert:hover {\n",
              "      background-color: #E2EBFA;\n",
              "      box-shadow: 0px 1px 2px rgba(60, 64, 67, 0.3), 0px 1px 3px 1px rgba(60, 64, 67, 0.15);\n",
              "      fill: #174EA6;\n",
              "    }\n",
              "\n",
              "    .colab-df-buttons div {\n",
              "      margin-bottom: 4px;\n",
              "    }\n",
              "\n",
              "    [theme=dark] .colab-df-convert {\n",
              "      background-color: #3B4455;\n",
              "      fill: #D2E3FC;\n",
              "    }\n",
              "\n",
              "    [theme=dark] .colab-df-convert:hover {\n",
              "      background-color: #434B5C;\n",
              "      box-shadow: 0px 1px 3px 1px rgba(0, 0, 0, 0.15);\n",
              "      filter: drop-shadow(0px 1px 2px rgba(0, 0, 0, 0.3));\n",
              "      fill: #FFFFFF;\n",
              "    }\n",
              "  </style>\n",
              "\n",
              "    <script>\n",
              "      const buttonEl =\n",
              "        document.querySelector('#df-eff8e5b2-17e9-4a86-ba0a-64df33e7f49e button.colab-df-convert');\n",
              "      buttonEl.style.display =\n",
              "        google.colab.kernel.accessAllowed ? 'block' : 'none';\n",
              "\n",
              "      async function convertToInteractive(key) {\n",
              "        const element = document.querySelector('#df-eff8e5b2-17e9-4a86-ba0a-64df33e7f49e');\n",
              "        const dataTable =\n",
              "          await google.colab.kernel.invokeFunction('convertToInteractive',\n",
              "                                                    [key], {});\n",
              "        if (!dataTable) return;\n",
              "\n",
              "        const docLinkHtml = 'Like what you see? Visit the ' +\n",
              "          '<a target=\"_blank\" href=https://colab.research.google.com/notebooks/data_table.ipynb>data table notebook</a>'\n",
              "          + ' to learn more about interactive tables.';\n",
              "        element.innerHTML = '';\n",
              "        dataTable['output_type'] = 'display_data';\n",
              "        await google.colab.output.renderOutput(dataTable, element);\n",
              "        const docLink = document.createElement('div');\n",
              "        docLink.innerHTML = docLinkHtml;\n",
              "        element.appendChild(docLink);\n",
              "      }\n",
              "    </script>\n",
              "  </div>\n",
              "\n",
              "\n",
              "<div id=\"df-5976dd8c-80dd-4b21-903d-ba4321271abc\">\n",
              "  <button class=\"colab-df-quickchart\" onclick=\"quickchart('df-5976dd8c-80dd-4b21-903d-ba4321271abc')\"\n",
              "            title=\"Suggest charts\"\n",
              "            style=\"display:none;\">\n",
              "\n",
              "<svg xmlns=\"http://www.w3.org/2000/svg\" height=\"24px\"viewBox=\"0 0 24 24\"\n",
              "     width=\"24px\">\n",
              "    <g>\n",
              "        <path d=\"M19 3H5c-1.1 0-2 .9-2 2v14c0 1.1.9 2 2 2h14c1.1 0 2-.9 2-2V5c0-1.1-.9-2-2-2zM9 17H7v-7h2v7zm4 0h-2V7h2v10zm4 0h-2v-4h2v4z\"/>\n",
              "    </g>\n",
              "</svg>\n",
              "  </button>\n",
              "\n",
              "<style>\n",
              "  .colab-df-quickchart {\n",
              "      --bg-color: #E8F0FE;\n",
              "      --fill-color: #1967D2;\n",
              "      --hover-bg-color: #E2EBFA;\n",
              "      --hover-fill-color: #174EA6;\n",
              "      --disabled-fill-color: #AAA;\n",
              "      --disabled-bg-color: #DDD;\n",
              "  }\n",
              "\n",
              "  [theme=dark] .colab-df-quickchart {\n",
              "      --bg-color: #3B4455;\n",
              "      --fill-color: #D2E3FC;\n",
              "      --hover-bg-color: #434B5C;\n",
              "      --hover-fill-color: #FFFFFF;\n",
              "      --disabled-bg-color: #3B4455;\n",
              "      --disabled-fill-color: #666;\n",
              "  }\n",
              "\n",
              "  .colab-df-quickchart {\n",
              "    background-color: var(--bg-color);\n",
              "    border: none;\n",
              "    border-radius: 50%;\n",
              "    cursor: pointer;\n",
              "    display: none;\n",
              "    fill: var(--fill-color);\n",
              "    height: 32px;\n",
              "    padding: 0;\n",
              "    width: 32px;\n",
              "  }\n",
              "\n",
              "  .colab-df-quickchart:hover {\n",
              "    background-color: var(--hover-bg-color);\n",
              "    box-shadow: 0 1px 2px rgba(60, 64, 67, 0.3), 0 1px 3px 1px rgba(60, 64, 67, 0.15);\n",
              "    fill: var(--button-hover-fill-color);\n",
              "  }\n",
              "\n",
              "  .colab-df-quickchart-complete:disabled,\n",
              "  .colab-df-quickchart-complete:disabled:hover {\n",
              "    background-color: var(--disabled-bg-color);\n",
              "    fill: var(--disabled-fill-color);\n",
              "    box-shadow: none;\n",
              "  }\n",
              "\n",
              "  .colab-df-spinner {\n",
              "    border: 2px solid var(--fill-color);\n",
              "    border-color: transparent;\n",
              "    border-bottom-color: var(--fill-color);\n",
              "    animation:\n",
              "      spin 1s steps(1) infinite;\n",
              "  }\n",
              "\n",
              "  @keyframes spin {\n",
              "    0% {\n",
              "      border-color: transparent;\n",
              "      border-bottom-color: var(--fill-color);\n",
              "      border-left-color: var(--fill-color);\n",
              "    }\n",
              "    20% {\n",
              "      border-color: transparent;\n",
              "      border-left-color: var(--fill-color);\n",
              "      border-top-color: var(--fill-color);\n",
              "    }\n",
              "    30% {\n",
              "      border-color: transparent;\n",
              "      border-left-color: var(--fill-color);\n",
              "      border-top-color: var(--fill-color);\n",
              "      border-right-color: var(--fill-color);\n",
              "    }\n",
              "    40% {\n",
              "      border-color: transparent;\n",
              "      border-right-color: var(--fill-color);\n",
              "      border-top-color: var(--fill-color);\n",
              "    }\n",
              "    60% {\n",
              "      border-color: transparent;\n",
              "      border-right-color: var(--fill-color);\n",
              "    }\n",
              "    80% {\n",
              "      border-color: transparent;\n",
              "      border-right-color: var(--fill-color);\n",
              "      border-bottom-color: var(--fill-color);\n",
              "    }\n",
              "    90% {\n",
              "      border-color: transparent;\n",
              "      border-bottom-color: var(--fill-color);\n",
              "    }\n",
              "  }\n",
              "</style>\n",
              "\n",
              "  <script>\n",
              "    async function quickchart(key) {\n",
              "      const quickchartButtonEl =\n",
              "        document.querySelector('#' + key + ' button');\n",
              "      quickchartButtonEl.disabled = true;  // To prevent multiple clicks.\n",
              "      quickchartButtonEl.classList.add('colab-df-spinner');\n",
              "      try {\n",
              "        const charts = await google.colab.kernel.invokeFunction(\n",
              "            'suggestCharts', [key], {});\n",
              "      } catch (error) {\n",
              "        console.error('Error during call to suggestCharts:', error);\n",
              "      }\n",
              "      quickchartButtonEl.classList.remove('colab-df-spinner');\n",
              "      quickchartButtonEl.classList.add('colab-df-quickchart-complete');\n",
              "    }\n",
              "    (() => {\n",
              "      let quickchartButtonEl =\n",
              "        document.querySelector('#df-5976dd8c-80dd-4b21-903d-ba4321271abc button');\n",
              "      quickchartButtonEl.style.display =\n",
              "        google.colab.kernel.accessAllowed ? 'block' : 'none';\n",
              "    })();\n",
              "  </script>\n",
              "</div>\n",
              "\n",
              "  <div id=\"id_99b35292-7e3a-4ed8-8cc2-2b7cbbcf525f\">\n",
              "    <style>\n",
              "      .colab-df-generate {\n",
              "        background-color: #E8F0FE;\n",
              "        border: none;\n",
              "        border-radius: 50%;\n",
              "        cursor: pointer;\n",
              "        display: none;\n",
              "        fill: #1967D2;\n",
              "        height: 32px;\n",
              "        padding: 0 0 0 0;\n",
              "        width: 32px;\n",
              "      }\n",
              "\n",
              "      .colab-df-generate:hover {\n",
              "        background-color: #E2EBFA;\n",
              "        box-shadow: 0px 1px 2px rgba(60, 64, 67, 0.3), 0px 1px 3px 1px rgba(60, 64, 67, 0.15);\n",
              "        fill: #174EA6;\n",
              "      }\n",
              "\n",
              "      [theme=dark] .colab-df-generate {\n",
              "        background-color: #3B4455;\n",
              "        fill: #D2E3FC;\n",
              "      }\n",
              "\n",
              "      [theme=dark] .colab-df-generate:hover {\n",
              "        background-color: #434B5C;\n",
              "        box-shadow: 0px 1px 3px 1px rgba(0, 0, 0, 0.15);\n",
              "        filter: drop-shadow(0px 1px 2px rgba(0, 0, 0, 0.3));\n",
              "        fill: #FFFFFF;\n",
              "      }\n",
              "    </style>\n",
              "    <button class=\"colab-df-generate\" onclick=\"generateWithVariable('comparison_table')\"\n",
              "            title=\"Generate code using this dataframe.\"\n",
              "            style=\"display:none;\">\n",
              "\n",
              "  <svg xmlns=\"http://www.w3.org/2000/svg\" height=\"24px\"viewBox=\"0 0 24 24\"\n",
              "       width=\"24px\">\n",
              "    <path d=\"M7,19H8.4L18.45,9,17,7.55,7,17.6ZM5,21V16.75L18.45,3.32a2,2,0,0,1,2.83,0l1.4,1.43a1.91,1.91,0,0,1,.58,1.4,1.91,1.91,0,0,1-.58,1.4L9.25,21ZM18.45,9,17,7.55Zm-12,3A5.31,5.31,0,0,0,4.9,8.1,5.31,5.31,0,0,0,1,6.5,5.31,5.31,0,0,0,4.9,4.9,5.31,5.31,0,0,0,6.5,1,5.31,5.31,0,0,0,8.1,4.9,5.31,5.31,0,0,0,12,6.5,5.46,5.46,0,0,0,6.5,12Z\"/>\n",
              "  </svg>\n",
              "    </button>\n",
              "    <script>\n",
              "      (() => {\n",
              "      const buttonEl =\n",
              "        document.querySelector('#id_99b35292-7e3a-4ed8-8cc2-2b7cbbcf525f button.colab-df-generate');\n",
              "      buttonEl.style.display =\n",
              "        google.colab.kernel.accessAllowed ? 'block' : 'none';\n",
              "\n",
              "      buttonEl.onclick = () => {\n",
              "        google.colab.notebook.generateWithVariable('comparison_table');\n",
              "      }\n",
              "      })();\n",
              "    </script>\n",
              "  </div>\n",
              "\n",
              "    </div>\n",
              "  </div>\n"
            ],
            "application/vnd.google.colaboratory.intrinsic+json": {
              "type": "dataframe",
              "variable_name": "comparison_table",
              "summary": "{\n  \"name\": \"comparison_table\",\n  \"rows\": 4,\n  \"fields\": [\n    {\n      \"column\": \"Metric\",\n      \"properties\": {\n        \"dtype\": \"string\",\n        \"num_unique_values\": 4,\n        \"samples\": [\n          \"Conversion Rate\",\n          \"Scroll Depth\",\n          \"Click Through Rate\"\n        ],\n        \"semantic_type\": \"\",\n        \"description\": \"\"\n      }\n    },\n    {\n      \"column\": \"T-Statistic\",\n      \"properties\": {\n        \"dtype\": \"number\",\n        \"std\": 0.269621213800169,\n        \"min\": -0.9255330711928771,\n        \"max\": -0.35480281421731047,\n        \"num_unique_values\": 4,\n        \"samples\": [\n          -0.35480281421731047,\n          -0.9119146131008665,\n          -0.9255330711928771\n        ],\n        \"semantic_type\": \"\",\n        \"description\": \"\"\n      }\n    },\n    {\n      \"column\": \"P-Value\",\n      \"properties\": {\n        \"dtype\": \"number\",\n        \"std\": 0.1730242869944659,\n        \"min\": 0.35491324838737903,\n        \"max\": 0.7228125260426927,\n        \"num_unique_values\": 4,\n        \"samples\": [\n          0.7228125260426927,\n          0.3620340571395648,\n          0.35491324838737903\n        ],\n        \"semantic_type\": \"\",\n        \"description\": \"\"\n      }\n    }\n  ]\n}"
            }
          },
          "metadata": {},
          "execution_count": 55
        }
      ]
    },
    {
      "cell_type": "markdown",
      "source": [
        "\n",
        "   1. Click Through Rate: The test reveals a statistically significant difference, with the Dark Theme likely performing better (P-Value = 0.035).\n",
        "   2. Conversion Rate: No statistically significant difference was found (P-Value = 0.722).\n",
        "   3. Bounce Rate: There’s no statistically significant difference in Bounce Rates between the themes (P-Value = 0.521).\n",
        "   4. Scroll Depth: Similarly, no statistically significant difference is observed in Scroll Depths (P-Value = 0.362).\n"
      ],
      "metadata": {
        "id": "wpaQ9xyppeno"
      }
    },
    {
      "cell_type": "markdown",
      "source": [
        "In summary, while the two themes perform similarly across most metrics, the Dark Theme has a slight edge in terms of engaging users to click through. For other key performance indicators like Conversion Rate, Bounce Rate, and Scroll Depth, the choice between a Light Theme and a Dark Theme does not significantly affect user behaviour according to the data provided."
      ],
      "metadata": {
        "id": "qo-zUi9apwvB"
      }
    },
    {
      "cell_type": "code",
      "source": [],
      "metadata": {
        "id": "8vHlixwAo0Hh"
      },
      "execution_count": null,
      "outputs": []
    }
  ]
}